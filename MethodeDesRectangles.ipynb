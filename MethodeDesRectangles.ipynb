{
 "cells": [
  {
   "cell_type": "markdown",
   "metadata": {},
   "source": [
    "# <font color='steelblue'> Calcul approché d'une intégrale par la méthode des rectangles\n",
    "--- "
   ]
  },
  {
   "cell_type": "markdown",
   "metadata": {},
   "source": [
    "## <font color='steelblue'> Objectif \n",
    "<font color='steelblue'>L'objectif de ce TP est de revoir la méthode des rectangles pour calculer une valeur approchée d'une intégrale.\n",
    "    \n",
    "<font color='steelblue'>L'intégrale à calculer est la suivante: $ \\displaystyle I = \\int_1^5 \\ln(x) dx$\\, , incalculable analytiquement *(les notions du programme de terminale ne permettent pas de trouver une primitive de cette fonction)*. \\\n",
    "<img src =\"FctLn.png\" style=\"width:600px\">"
   ]
  },
  {
   "cell_type": "markdown",
   "metadata": {},
   "source": [
    "<font color='steelblue'> La fonction $x \\mapsto \\ln(x)$ étant croissante sur $[0,5]$, on peut utiliser la méthode des rectangles.\n"
   ]
  },
  {
   "cell_type": "markdown",
   "metadata": {},
   "source": [
    "## <font color='green'> Rappel: Méthode des rectangles:\n",
    "<font color='green'> Soit une fonction $f$ continue, positive et monotone sur un intervalle $[a ; b]$.\\\n",
    "<font color='green'> On partage l'intervalle $[a ; b]$ en $n$ sous-intervalles de même amplitude $h = \\dfrac{b - a}{n}$.\n",
    "\n",
    "<font color='green'> Sur un sous-intervalle $[x; x + h ]$, l'aire sous la courbe est comprise entre l'aire de deux rectangles :\\\n",
    "<font color='green'> $\\star$ l'un de dimension $h$ et $f(x)$ qui a pour aire $h \\times f(x)$ ;\\\n",
    "<font color='green'> $\\star$ l'autre de dimension $h$ et $f(x + h)$ qui a pour aire $h \\times f(x+h)$.\n",
    "\n",
    "<font color='green'> Sur l'intervalle $[a ; b]$, l'aire sous la courbe est comprise entre la somme des $n$ rectangles \"inférieurs\" et la somme des $n$ rectangles \"supérieurs\". \\\n",
    "<img src =\"FctLn2.png\" style=\"width:600px\">\n"
   ]
  },
  {
   "cell_type": "markdown",
   "metadata": {},
   "source": [
    "## <font color='steelblue'> Ecriture du programme:\n",
    "<font color='steelblue'>Pour pouvoir utiliser les fonctions mathématiques, nous allons avoir besoin de la bibliothèque mathématique"
   ]
  },
  {
   "cell_type": "code",
   "execution_count": 62,
   "metadata": {},
   "outputs": [],
   "source": [
    "import math as m"
   ]
  },
  {
   "cell_type": "markdown",
   "metadata": {},
   "source": [
    "<font color='steelblue'> Initialisation des variables"
   ]
  },
  {
   "cell_type": "code",
   "execution_count": 63,
   "metadata": {},
   "outputs": [],
   "source": [
    "a=1                      # Initialisation de la 1ère borne de l'intervalle\n",
    "b=5                      # Initialisation de la 2ème borne de l'intervalle\n",
    "n=100                    # Nombre d'intervalles\n",
    "h=(b-a)/n                # calcul de l'amplitude "
   ]
  },
  {
   "cell_type": "markdown",
   "metadata": {},
   "source": [
    "<font color='steelblue'> Création de la boucle pour le calcul de I et de S"
   ]
  },
  {
   "cell_type": "code",
   "execution_count": 64,
   "metadata": {},
   "outputs": [
    {
     "name": "stdout",
     "output_type": "stream",
     "text": [
      "L'intégrale est comprise entre 4.0148941443061315  et  4.079271660803496\n"
     ]
    }
   ],
   "source": [
    "I=0                      # Initialisation de la somme des aires des retangles \"inférieurs\"\n",
    "S=0                      # Initialisation de la somme des aires des retangles \"supérieurs\"\n",
    "x=a                      # Initialisation de la 1ère borne du 1er sous-intervalle \n",
    "for i in range (0,n):\n",
    "    I=I+h*m.log(x)       # m.log permet d'appeler la fonction ln (logarithme népérien) au travers de la bibliothèque \"math\" que l'on a rebaptisée \"m\" \n",
    "    S=S+h*m.log(x+h)\n",
    "    x=x+h\n",
    "print(\"L'intégrale est comprise entre\",I,\" et \",S)   "
   ]
  },
  {
   "cell_type": "markdown",
   "metadata": {},
   "source": [
    "## <font color='steelblue'> Programme complet"
   ]
  },
  {
   "cell_type": "code",
   "execution_count": 65,
   "metadata": {},
   "outputs": [
    {
     "name": "stdout",
     "output_type": "stream",
     "text": [
      "L'intégrale est comprise entre 4.0148941443061315  et  4.079271660803496\n"
     ]
    }
   ],
   "source": [
    "import math as m\n",
    "a=1                      # Initialisation de la 1ère borne de l'intervalle\n",
    "b=5                      # Initialisation de la 2ème borne de l'intervalle\n",
    "n=100                    # Nombre d'intervalles\n",
    "h=(b-a)/n                # calcul de l'amplitude \n",
    "I=0                      # Initialisation de la somme des aires des retangles \"inférieurs\"\n",
    "S=0                      # Initialisation de la somme des aires des retangles \"supérieurs\"\n",
    "x=a                      # Initialisation de la 1ère borne du 1er sous-intervalle \n",
    "for i in range (0,n):\n",
    "    I=I+h*m.log(x)       # m.log permet d'appeler la fonction ln (logarithme népérien)   \n",
    "    S=S+h*m.log(x+h)\n",
    "    x=x+h\n",
    "print(\"L'intégrale est comprise entre\",I,\" et \",S)   "
   ]
  },
  {
   "cell_type": "markdown",
   "metadata": {},
   "source": [
    "## <font color='steelblue'> A vous de jouer n°1\n",
    "<font color='steelblue'> Quel paramètre modifier dans le programme précédent pour qu'il détermine un meilleur encadrement que celui obtenu précédemment?\\\n",
    "Modifier ce paramètre pour obtenir un encadrement d'amplitude inférieure à $10^{-2}$."
   ]
  },
  {
   "cell_type": "code",
   "execution_count": 66,
   "metadata": {},
   "outputs": [
    {
     "name": "stdout",
     "output_type": "stream",
     "text": [
      "L'intégrale est comprise entre 4.0148941443061315  et  4.079271660803496\n"
     ]
    }
   ],
   "source": [
    "import math as m\n",
    "a=1                      # Initialisation de la 1ère borne de l'intervalle\n",
    "b=5                      # Initialisation de la 2ème borne de l'intervalle\n",
    "n=100                    # Nombre d'intervalles\n",
    "h=(b-a)/n                # calcul de l'amplitude \n",
    "I=0                      # Initialisation de la somme des aires des retangles \"inférieurs\"\n",
    "S=0                      # Initialisation de la somme des aires des retangles \"supérieurs\"\n",
    "x=a                      # Initialisation de la 1ère borne du 1er sous-intervalle \n",
    "for i in range (0,n):\n",
    "    I=I+h*m.log(x)       # m.log permet d'appeler la fonction ln (logarithme népérien)   \n",
    "    S=S+h*m.log(x+h)\n",
    "    x=x+h\n",
    "print(\"L'intégrale est comprise entre\",I,\" et \",S)   "
   ]
  },
  {
   "cell_type": "markdown",
   "metadata": {},
   "source": [
    "## <font color='steelblue'> A vous de jouer n°2\n",
    "<font color='steelblue'> L'objectif est maintenant de modifier le programme initial pour qu'il détermine un encadrement de l'intégrale $ \\displaystyle J = \\int_4^{10} \\dfrac{x+1}{x-3}\\, dx$\n",
    "    \n",
    "<img src =\"Fig3.png\" style=\"width:600px\">    \n",
    "    \n",
    "<font color='steelblue'> 1 - De quelle différence entre la fonction du 1er exemple et celle-ci faut-il tenir compte pour modifier l'algirithme.\\\n",
    "<font color='steelblue'> 2 - Modifier le programme inital pour qu'il détermine un encadrement de l'intégrale $J$.\\\n",
    "<font color='steelblue'> 3 - Modifier votre programme pour qu'il détermine un encadrement de l'intégrale $J$ à $10^{-2}$ près."
   ]
  },
  {
   "cell_type": "code",
   "execution_count": 67,
   "metadata": {},
   "outputs": [
    {
     "name": "stdout",
     "output_type": "stream",
     "text": [
      "L'intégrale est comprise entre 4.0148941443061315  et  4.079271660803496\n"
     ]
    }
   ],
   "source": [
    "import math as m\n",
    "a=1                      # Initialisation de la 1ère borne de l'intervalle\n",
    "b=5                      # Initialisation de la 2ème borne de l'intervalle\n",
    "n=100                    # Nombre d'intervalles\n",
    "h=(b-a)/n                # calcul de l'amplitude \n",
    "I=0                      # Initialisation de la somme des aires des retangles \"inférieurs\"\n",
    "S=0                      # Initialisation de la somme des aires des retangles \"supérieurs\"\n",
    "x=a                      # Initialisation de la 1ère borne du 1er sous-intervalle \n",
    "for i in range (0,n):\n",
    "    I=I+h*m.log(x)       # m.log permet d'appeler la fonction ln (logarithme népérien)   \n",
    "    S=S+h*m.log(x+h)\n",
    "    x=x+h\n",
    "print(\"L'intégrale est comprise entre\",I,\" et \",S)   "
   ]
  },
  {
   "cell_type": "markdown",
   "metadata": {},
   "source": [
    "## <font color='steelblue'> A vous de jouer n°3 - Plus difficile\n",
    "<font color='steelblue'> On souhaite maintenant déterminer un encadrement de l'intégrale $ \\displaystyle K = \\int_2^{5} \\dfrac{x^2-x+4}{2x-2}\\, dx$\n",
    "    \n",
    "<img src =\"Fig4.png\" style=\"width:600px\">    \n",
    "    \n",
    "<font color='steelblue'> On admet que la fonction $ x \\mapsto \\dfrac{x^2-x+4}{2x-2}$  est décroissante sur $[ 2 \\, ; \\, 3]$, puis croissante sur $[ 3 \\, ; \\, 5]$   \n",
    "<font color='steelblue'> 1 - Modifier le programme inital pour qu'il détermine un encadrement de l'intégrale $K$.\\\n",
    "<font color='steelblue'> 2 - Modifier votre programme pour qu'il détermine un encadrement de l'intégrale $K$ à $10^{-2}$ près."
   ]
  },
  {
   "cell_type": "code",
   "execution_count": 68,
   "metadata": {},
   "outputs": [
    {
     "name": "stdout",
     "output_type": "stream",
     "text": [
      "L'intégrale est comprise entre 4.0148941443061315  et  4.079271660803496\n"
     ]
    }
   ],
   "source": [
    "import math as m\n",
    "a=1                      # Initialisation de la 1ère borne de l'intervalle\n",
    "b=5                      # Initialisation de la 2ème borne de l'intervalle\n",
    "n=100                    # Nombre d'intervalles\n",
    "h=(b-a)/n                # calcul de l'amplitude \n",
    "I=0                      # Initialisation de la somme des aires des retangles \"inférieurs\"\n",
    "S=0                      # Initialisation de la somme des aires des retangles \"supérieurs\"\n",
    "x=a                      # Initialisation de la 1ère borne du 1er sous-intervalle \n",
    "for i in range (0,n):\n",
    "    I=I+h*m.log(x)       # m.log permet d'appeler la fonction ln (logarithme népérien)   \n",
    "    S=S+h*m.log(x+h)\n",
    "    x=x+h\n",
    "print(\"L'intégrale est comprise entre\",I,\" et \",S)   "
   ]
  }
 ],
 "metadata": {
  "kernelspec": {
   "display_name": "Python 3",
   "language": "python",
   "name": "python3"
  },
  "language_info": {
   "codemirror_mode": {
    "name": "ipython",
    "version": 3
   },
   "file_extension": ".py",
   "mimetype": "text/x-python",
   "name": "python",
   "nbconvert_exporter": "python",
   "pygments_lexer": "ipython3",
   "version": "3.8.0"
  }
 },
 "nbformat": 4,
 "nbformat_minor": 4
}
